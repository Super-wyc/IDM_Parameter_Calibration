{
 "cells": [
  {
   "cell_type": "code",
   "execution_count": null,
   "metadata": {},
   "outputs": [],
   "source": [
    "import pandas as pd\n",
    "import numpy as np\n",
    "\n",
    "# 数据准备\n",
    "df = pd.read_csv(r'C:\\Users\\U-235Pu-239\\Desktop\\TST（交通仿真）\\IDM\\car_following_01_tracks.csv')\n"
   ]
  },
  {
   "cell_type": "code",
   "execution_count": null,
   "metadata": {},
   "outputs": [],
   "source": [
    "# 提取各跟驰对\n",
    "grouped = df.groupby('following_width')\n",
    "\n",
    "inputlist = []\n",
    "# Iterating over the groups\n",
    "for width, data in grouped:\n",
    "    input_dict = {\n",
    "    \"time_step\" : 0.25,                   # 时间间隔\n",
    "    \"leader_length\" : data[\"front_width\"][0], # 引导车车长\n",
    "    \"leader_velocity\" : data[\"front_speed\"],  # 引导车速度列表 \n",
    "    \"leader_position\" : data[\"front_x\"], # 引导车位置列表\n",
    "    \"follower_length\" : width,             # 跟驰车车长\n",
    "    \"follower_initial_velocity\" : data['following_speed'][0] ,   # 跟驰车初始速度\n",
    "    \"follower_initial_position\" : data[' '],   # 跟驰车初始位置\n",
    "    }"
   ]
  },
  {
   "cell_type": "code",
   "execution_count": null,
   "metadata": {},
   "outputs": [],
   "source": [
    "\n",
    "leader_length = df[\"front_width\"]\n",
    "leader_velocity = df[\"front_speed\"]\n",
    "leader_position = df[\"front_x\"]\n",
    "follower_length = df[\"following_width\"]\n",
    "follower_initial_velocity = df[\"following_speed\"]\n",
    "follower_initial_position = df[\"following_x\"]\n",
    "\n",
    "\n",
    "\n",
    "\n",
    "\n",
    "\n",
    "'''\n",
    "    time_step:float,            # 时间间隔\n",
    "    leader_length:float,        # 引导车车长\n",
    "    leader_velocity:list,       # 引导车速度列表 \n",
    "    leader_position:list,       # 引导车位置列表\n",
    "    follower_length:float,      # 跟驰车车长\n",
    "    follower_initial_velocity:float,    # 跟驰车初始速度\n",
    "    follower_initial_position:float     # 跟驰车初始位置\n",
    "'''"
   ]
  },
  {
   "cell_type": "code",
   "execution_count": null,
   "metadata": {},
   "outputs": [],
   "source": [
    "import pandas as pd\n",
    "import numpy as np\n",
    "\n",
    "# 数据准备\n",
    "df = pd.read_csv(r'C:\\Users\\U-235Pu-239\\Desktop\\TST（交通仿真）\\IDM\\car_following_01_tracks.csv')\n",
    "\n",
    "# 提取各列意义\n",
    "leader_length = \n",
    "\n",
    "\n",
    "\n",
    "\n",
    "\n",
    "\n",
    "sim_input = {\n",
    "    \"time_step\":0.25,                   # 时间间隔\n",
    "    \"leader_length\":0.25,               # 引导车车长\n",
    "    \"leader_velocity\":0.25,             # 引导车速度列表 \n",
    "    \"leader_position\":0.25,             # 引导车位置列表\n",
    "    \"follower_length\":0.25,             # 跟驰车车长\n",
    "    \"follower_initial_velocity\":0.25,   # 跟驰车初始速度\n",
    "    \"follower_initial_position\":0.25,   # 跟驰车初始位置\n",
    "}\n",
    "'''\n",
    "    time_step:float,            # 时间间隔\n",
    "    leader_length:float,        # 引导车车长\n",
    "    leader_velocity:list,       # 引导车速度列表 \n",
    "    leader_position:list,       # 引导车位置列表\n",
    "    follower_length:float,      # 跟驰车车长\n",
    "    follower_initial_velocity:float,    # 跟驰车初始速度\n",
    "    follower_initial_position:float     # 跟驰车初始位置\n",
    "'''"
   ]
  },
  {
   "cell_type": "code",
   "execution_count": null,
   "metadata": {},
   "outputs": [],
   "source": [
    "# 优化算法\n",
    "\n",
    "from sko.GA import GA\n",
    "import numpy as np\n",
    "from matplotlib import pyplot as plt\n",
    "import IDMsimulate\n",
    "\n",
    "def rmspe(y_true, y_pred):\n",
    "    '''\n",
    "    Compute Root Mean Square Percentage Error between two arrays.\n",
    "    '''\n",
    "    loss = np.sqrt(np.mean(np.square(((y_true - y_pred) / y_true)), axis=0))\n",
    "    return loss\n",
    "\n",
    "def opt_func(parameter): # 优化的目标函数\n",
    "    \n",
    "    '''\n",
    "    对每帧，可以计算出IDM预测的位置predicted position相比真实true position的RMSPE；\n",
    "    以各帧的RMSPE之平均为求min的目标函数；\n",
    "\n",
    "    parameter是一个参数转载器，包含了所有准备丢给GA优化的超参数（这里就是IDM类的各成员变量）；\n",
    "\n",
    "    '''\n",
    "    max_acceleration, desired_velocity, delta, s0, T, b = parameter\n",
    "    myIDM = IDMsimulate.IDM(max_acceleration, desired_velocity, delta, s0, T, b)\n",
    "    x = np.square(x1) + np.square(x2)\n",
    "    return 0.5 + (np.square(np.sin(x)) - 0.5) / np.square(1 + 0.001 * x)\n"
   ]
  }
 ],
 "metadata": {
  "kernelspec": {
   "display_name": "IDM",
   "language": "python",
   "name": "python3"
  },
  "language_info": {
   "codemirror_mode": {
    "name": "ipython",
    "version": 3
   },
   "file_extension": ".py",
   "mimetype": "text/x-python",
   "name": "python",
   "nbconvert_exporter": "python",
   "pygments_lexer": "ipython3",
   "version": "3.10.6"
  }
 },
 "nbformat": 4,
 "nbformat_minor": 2
}
