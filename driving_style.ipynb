{
 "cells": [
  {
   "cell_type": "code",
   "execution_count": 6,
   "metadata": {},
   "outputs": [],
   "source": [
    "from hmmlearn import hmm\n",
    "import pandas as pd\n",
    "import numpy as np\n",
    "from sklearn.preprocessing import LabelEncoder\n",
    "\n",
    "data = pd.read_csv(\"dataset\\car_following_01_tracks.csv\") \n",
    "\n",
    "label_encoder = LabelEncoder()\n",
    "data['front_class_encoded'] = label_encoder.fit_transform(data['front_class'])\n",
    "data['following_class_encoded'] = label_encoder.transform(data['following_class'])\n",
    "\n",
    "observations = data[['distance', 'front_speed', 'following_speed', 'front_width', 'following_width', 'front_class_encoded', 'following_class_encoded']].values\n",
    "num_states = 3  \n",
    "model = hmm.GaussianHMM(n_components=num_states, covariance_type=\"full\", n_iter=100)\n",
    "model.fit(observations)\n",
    "predicted_labels = model.predict(observations)\n",
    "\n",
    "data['driving_style'] = predicted_labels\n",
    "data.to_csv(\"output1.csv\", index=False)\n"
   ]
  },
  {
   "cell_type": "markdown",
   "metadata": {},
   "source": []
  }
 ],
 "metadata": {
  "kernelspec": {
   "display_name": "base",
   "language": "python",
   "name": "python3"
  },
  "language_info": {
   "codemirror_mode": {
    "name": "ipython",
    "version": 3
   },
   "file_extension": ".py",
   "mimetype": "text/x-python",
   "name": "python",
   "nbconvert_exporter": "python",
   "pygments_lexer": "ipython3",
   "version": "3.11.5"
  }
 },
 "nbformat": 4,
 "nbformat_minor": 2
}
