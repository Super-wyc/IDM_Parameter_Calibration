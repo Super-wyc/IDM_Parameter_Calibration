{
 "cells": [
  {
   "cell_type": "code",
   "execution_count": 1,
   "metadata": {},
   "outputs": [],
   "source": [
    "import pandas as pd\n",
    "import matplotlib.pyplot as plt\n",
    "import re\n",
    "import numpy as np\n",
    "from process import Data_process\n",
    "import os\n",
    "from sklearn.preprocessing import LabelEncoder"
   ]
  },
  {
   "cell_type": "code",
   "execution_count": 9,
   "metadata": {},
   "outputs": [],
   "source": [
    "def extract_data() -> dict:\n",
    "        pattern = re.compile(r\"\\((\\d+), (\\d+)\\)_(\\d+)_tracks\\.csv\")\n",
    "        data = pd.DataFrame([])\n",
    "        data_dict = {}\n",
    "        for filename in os.listdir('dataset'):\n",
    "            match = pattern.match(filename)\n",
    "            if match:\n",
    "                temp = pd.read_csv(rf\"dataset/{filename}\")\n",
    "                data = pd.concat([data, temp])\n",
    "                data_dict[filename[:-4]] = temp\n",
    "        data.reset_index(inplace=True, drop=True)\n",
    "        return data_dict\n",
    "\n",
    "d = extract_data()\n",
    "\n",
    "allinfo = pd.DataFrame([])\n",
    "for keys in d.keys():\n",
    "     allinfo = pd.concat([allinfo, d[keys]], axis=0)\n",
    "\n",
    "# 将 \"Truck\" 设置为 1，\"Car\" 设置为 0\n",
    "label_encoder = LabelEncoder()\n",
    "allinfo['front_class'] = label_encoder.fit_transform(allinfo['front_class'])\n",
    "allinfo['following_class'] = label_encoder.transform(allinfo['following_class'])\n",
    "allinfo['deltaspeed'] = allinfo['front_speed'] - allinfo['following_speed']\n",
    "allinfo['deltaa'] = allinfo['front_a'] - allinfo['following_a']\n",
    "allinfo.to_csv(r'dataset/allinfo.csv')"
   ]
  }
 ],
 "metadata": {
  "kernelspec": {
   "display_name": "base",
   "language": "python",
   "name": "python3"
  },
  "language_info": {
   "codemirror_mode": {
    "name": "ipython",
    "version": 3
   },
   "file_extension": ".py",
   "mimetype": "text/x-python",
   "name": "python",
   "nbconvert_exporter": "python",
   "pygments_lexer": "ipython3",
   "version": "3.11.5"
  }
 },
 "nbformat": 4,
 "nbformat_minor": 2
}
