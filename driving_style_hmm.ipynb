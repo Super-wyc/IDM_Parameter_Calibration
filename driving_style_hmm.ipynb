{
 "cells": [
  {
   "cell_type": "code",
   "execution_count": 1,
   "metadata": {},
   "outputs": [],
   "source": [
    "import pandas as pd\n",
    "from sklearn.decomposition import PCA\n",
    "from sklearn.preprocessing import StandardScaler\n",
    "from sklearn.preprocessing import LabelEncoder\n",
    "# 读取数据\n",
    "data = pd.read_csv(\"dataset\\car_following_01_tracks.csv\")\n",
    "\n",
    "# 将 \"Truck\" 设置为 1，\"Car\" 设置为 0\n",
    "label_encoder = LabelEncoder()\n",
    "data['front_class_encoded'] = label_encoder.fit_transform(data['front_class'])\n",
    "data['following_class_encoded'] = label_encoder.transform(data['following_class'])\n",
    "\n",
    "# 选择需要进行主成分分析的特征列\n",
    "features = ['distance', 'following_x', 'front_x', 'front_speed', 'following_speed',\n",
    "             'front_width', 'following_width', 'front_class_encoded', 'following_class_encoded']\n",
    "\n",
    "# 将特征列进行标准化\n",
    "scaler = StandardScaler()\n",
    "scaled_data = scaler.fit_transform(data[features])\n",
    "\n",
    "# 创建 PCA 模型并拟合数据\n",
    "pca = PCA(n_components=7)\n",
    "principal_components = pca.fit_transform(scaled_data)\n",
    "\n",
    "# 创建包含主成分的数据框\n",
    "principal_df = pd.DataFrame(data=principal_components)\n"
   ]
  },
  {
   "cell_type": "code",
   "execution_count": 2,
   "metadata": {},
   "outputs": [],
   "source": [
    "from hmmlearn import hmm\n",
    "import pandas as pd\n",
    "import numpy as np\n",
    "\n",
    "observations = principal_df.values\n",
    "num_states = 3  \n",
    "model = hmm.GaussianHMM(n_components=num_states, covariance_type=\"full\", n_iter=100)\n",
    "model.fit(observations)\n",
    "predicted_labels = model.predict(observations)\n",
    "\n",
    "data['driving_style'] = predicted_labels\n",
    "data.to_csv(\"output1.csv\", index=False)"
   ]
  },
  {
   "cell_type": "markdown",
   "metadata": {},
   "source": []
  }
 ],
 "metadata": {
  "kernelspec": {
   "display_name": "base",
   "language": "python",
   "name": "python3"
  },
  "language_info": {
   "codemirror_mode": {
    "name": "ipython",
    "version": 3
   },
   "file_extension": ".py",
   "mimetype": "text/x-python",
   "name": "python",
   "nbconvert_exporter": "python",
   "pygments_lexer": "ipython3",
   "version": "3.11.5"
  }
 },
 "nbformat": 4,
 "nbformat_minor": 2
}
