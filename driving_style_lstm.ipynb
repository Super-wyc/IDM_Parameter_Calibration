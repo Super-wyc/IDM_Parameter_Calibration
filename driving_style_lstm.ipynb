{
 "cells": [
  {
   "cell_type": "code",
   "execution_count": 1,
   "metadata": {},
   "outputs": [],
   "source": [
    "import pandas as pd\n",
    "import matplotlib.pyplot as plt\n",
    "import re\n",
    "import numpy as np\n",
    "from process import Data_process"
   ]
  },
  {
   "cell_type": "code",
   "execution_count": 2,
   "metadata": {},
   "outputs": [],
   "source": [
    "t = Data_process(r'dataset\\01_tracks.csv')\n",
    "allinfo = t.distance_selector()[t.time_selecter().index[0]]\n",
    "for i in range(1, len(t.time_selecter())):\n",
    "    allinfo = pd.concat([allinfo, t.distance_selector()[t.time_selecter().index[i]]], axis=0)"
   ]
  },
  {
   "cell_type": "code",
   "execution_count": 5,
   "metadata": {},
   "outputs": [
    {
     "name": "stdout",
     "output_type": "stream",
     "text": [
      "三维数组的形状: (40, 375, 5)\n"
     ]
    }
   ],
   "source": [
    "# 按frame列大小从小到大进行排序\n",
    "df_sorted = allinfo.sort_values(by='frame')\n",
    "\n",
    "# 保留每个following_id的前375行\n",
    "df_top10 = df_sorted.groupby('following_id').head(375)\n",
    "\n",
    "# 提取除去front_id和follow_id的列\n",
    "df_features = df_top10.drop(columns=['front_id', 'following_id', 'frame', 'following_x', 'front_x'], )\n",
    "\n",
    "# 计算不同following_id的数量\n",
    "num_following_ids = df_top10['following_id'].nunique()\n",
    "\n",
    "# 提取数据框的值，并转换为三维数组\n",
    "data_array = df_features.values.reshape(num_following_ids,375,  -1)\n",
    "\n",
    "# 输出三维数组的形状\n",
    "print(\"三维数组的形状:\", data_array.shape)"
   ]
  },
  {
   "cell_type": "code",
   "execution_count": 15,
   "metadata": {},
   "outputs": [
    {
     "name": "stdout",
     "output_type": "stream",
     "text": [
      "Epoch [10/1000], Loss: 0.9507\n",
      "Epoch [20/1000], Loss: 0.8323\n",
      "Epoch [30/1000], Loss: 0.6705\n",
      "Epoch [40/1000], Loss: 0.6171\n",
      "Epoch [50/1000], Loss: 0.5711\n",
      "Epoch [60/1000], Loss: 0.5086\n",
      "Epoch [70/1000], Loss: 0.4362\n",
      "Epoch [80/1000], Loss: 0.3670\n",
      "Epoch [90/1000], Loss: 0.2926\n",
      "Epoch [100/1000], Loss: 0.2186\n",
      "Epoch [110/1000], Loss: 0.1550\n",
      "Epoch [120/1000], Loss: 0.1078\n",
      "Epoch [130/1000], Loss: 0.0780\n",
      "Epoch [140/1000], Loss: 0.0610\n",
      "Epoch [150/1000], Loss: 0.0502\n",
      "Epoch [160/1000], Loss: 0.0416\n",
      "Epoch [170/1000], Loss: 0.0343\n",
      "Epoch [180/1000], Loss: 0.0278\n",
      "Epoch [190/1000], Loss: 0.0222\n",
      "Epoch [200/1000], Loss: 0.0175\n",
      "Epoch [210/1000], Loss: 0.0139\n",
      "Epoch [220/1000], Loss: 0.0112\n",
      "Epoch [230/1000], Loss: 0.0093\n",
      "Epoch [240/1000], Loss: 0.0078\n",
      "Epoch [250/1000], Loss: 0.0068\n",
      "Epoch [260/1000], Loss: 0.0060\n",
      "Epoch [270/1000], Loss: 0.0055\n",
      "Epoch [280/1000], Loss: 0.0051\n",
      "Epoch [290/1000], Loss: 0.0047\n",
      "Epoch [300/1000], Loss: 0.0044\n",
      "Epoch [310/1000], Loss: 0.0042\n",
      "Epoch [320/1000], Loss: 0.0040\n",
      "Epoch [330/1000], Loss: 0.0038\n",
      "Epoch [340/1000], Loss: 0.0036\n",
      "Epoch [350/1000], Loss: 0.0035\n",
      "Epoch [360/1000], Loss: 0.0033\n",
      "Epoch [370/1000], Loss: 0.0032\n",
      "Epoch [380/1000], Loss: 0.0031\n",
      "Epoch [390/1000], Loss: 0.0030\n",
      "Epoch [400/1000], Loss: 0.0029\n",
      "Epoch [410/1000], Loss: 0.0028\n",
      "Epoch [420/1000], Loss: 0.0027\n",
      "Epoch [430/1000], Loss: 0.0026\n",
      "Epoch [440/1000], Loss: 0.0025\n",
      "Epoch [450/1000], Loss: 0.0024\n",
      "Epoch [460/1000], Loss: 0.0023\n",
      "Epoch [470/1000], Loss: 0.0023\n",
      "Epoch [480/1000], Loss: 0.0022\n",
      "Epoch [490/1000], Loss: 0.0021\n",
      "Epoch [500/1000], Loss: 0.0021\n",
      "Epoch [510/1000], Loss: 0.0020\n",
      "Epoch [520/1000], Loss: 0.0020\n",
      "Epoch [530/1000], Loss: 0.0019\n",
      "Epoch [540/1000], Loss: 0.0019\n",
      "Epoch [550/1000], Loss: 0.0018\n",
      "Epoch [560/1000], Loss: 0.0018\n",
      "Epoch [570/1000], Loss: 0.0017\n",
      "Epoch [580/1000], Loss: 0.0017\n",
      "Epoch [590/1000], Loss: 0.0016\n",
      "Epoch [600/1000], Loss: 0.0016\n",
      "Epoch [610/1000], Loss: 0.0016\n",
      "Epoch [620/1000], Loss: 0.0015\n",
      "Epoch [630/1000], Loss: 0.0015\n",
      "Epoch [640/1000], Loss: 0.0015\n",
      "Epoch [650/1000], Loss: 0.0014\n",
      "Epoch [660/1000], Loss: 0.0014\n",
      "Epoch [670/1000], Loss: 0.0014\n",
      "Epoch [680/1000], Loss: 0.0013\n",
      "Epoch [690/1000], Loss: 0.0013\n",
      "Epoch [700/1000], Loss: 0.0013\n",
      "Epoch [710/1000], Loss: 0.0013\n",
      "Epoch [720/1000], Loss: 0.0013\n",
      "Epoch [730/1000], Loss: 0.0012\n",
      "Epoch [740/1000], Loss: 0.0012\n",
      "Epoch [750/1000], Loss: 0.0012\n",
      "Epoch [760/1000], Loss: 0.0012\n",
      "Epoch [770/1000], Loss: 0.0011\n",
      "Epoch [780/1000], Loss: 0.0011\n",
      "Epoch [790/1000], Loss: 0.0011\n",
      "Epoch [800/1000], Loss: 0.0011\n",
      "Epoch [810/1000], Loss: 0.0010\n",
      "Epoch [820/1000], Loss: 0.0010\n",
      "Epoch [830/1000], Loss: 0.0010\n"
     ]
    },
    {
     "name": "stderr",
     "output_type": "stream",
     "text": [
      "d:\\anaconda3\\Lib\\site-packages\\sklearn\\cluster\\_kmeans.py:1412: FutureWarning: The default value of `n_init` will change from 10 to 'auto' in 1.4. Set the value of `n_init` explicitly to suppress the warning\n",
      "  super()._check_params_vs_input(X, default_n_init=10)\n",
      "d:\\anaconda3\\Lib\\site-packages\\sklearn\\cluster\\_kmeans.py:1436: UserWarning: KMeans is known to have a memory leak on Windows with MKL, when there are less chunks than available threads. You can avoid it by setting the environment variable OMP_NUM_THREADS=1.\n",
      "  warnings.warn(\n"
     ]
    },
    {
     "name": "stdout",
     "output_type": "stream",
     "text": [
      "Cluster labels: [2 2 2 2 2 0 0 0 0 0 0 1 2 2 0 1 1 0 1 1 0 0 0 1 0 1 1 1 0 0 0 0 2 0 0 0 0\n",
      " 2 2 2]\n"
     ]
    }
   ],
   "source": [
    "loss_array=[]\n",
    "import torch\n",
    "import torch.nn as nn\n",
    "import torch.optim as optim\n",
    "import numpy as np\n",
    "from sklearn.cluster import KMeans\n",
    "\n",
    "class LSTMEncoder(nn.Module):\n",
    "    def __init__(self, input_size, hidden_size, num_layers=1):\n",
    "        super(LSTMEncoder, self).__init__()\n",
    "        self.hidden_size = hidden_size\n",
    "        self.num_layers = num_layers\n",
    "        self.lstm = nn.LSTM(input_size, hidden_size, num_layers, batch_first=True)\n",
    "\n",
    "    def forward(self, x):\n",
    "        # Initialize hidden state with zeros\n",
    "        h0 = torch.zeros(self.num_layers, x.size(0), self.hidden_size).to(x.device)\n",
    "        c0 = torch.zeros(self.num_layers, x.size(0), self.hidden_size).to(x.device)\n",
    "\n",
    "        # Forward propagate LSTM\n",
    "        out, _ = self.lstm(x, (h0, c0))\n",
    "\n",
    "        # Return the final hidden state\n",
    "        return out[:, -1, :]\n",
    "\n",
    "\n",
    "class LSTMDecoder(nn.Module):\n",
    "    def __init__(self, input_size, hidden_size, output_size, num_layers=1):\n",
    "        super(LSTMDecoder, self).__init__()\n",
    "        self.hidden_size = hidden_size\n",
    "        self.num_layers = num_layers\n",
    "        self.lstm = nn.LSTM(input_size, hidden_size, num_layers, batch_first=True)\n",
    "        self.fc = nn.Linear(hidden_size, output_size)\n",
    "\n",
    "    def forward(self, x, hx, cx):\n",
    "        # Forward propagate LSTM\n",
    "        out, _ = self.lstm(x, (hx, cx))\n",
    "\n",
    "        # Decode the hidden state to the output space\n",
    "        out = self.fc(out)\n",
    "\n",
    "        return out\n",
    "\n",
    "\n",
    "# Convert data to PyTorch tensor\n",
    "data_tensor = torch.tensor(data_array, dtype=torch.float32)\n",
    "\n",
    "# Normalize data\n",
    "data_mean = torch.mean(data_tensor, dim=(0, 1), keepdim=True)\n",
    "data_std = torch.std(data_tensor, dim=(0, 1), keepdim=True)\n",
    "data_tensor = (data_tensor - data_mean) / data_std\n",
    "\n",
    "# Define model parameters\n",
    "input_size = 5\n",
    "hidden_size = 64\n",
    "output_size = 5\n",
    "num_layers = 1\n",
    "\n",
    "# Initialize encoder and decoder\n",
    "encoder = LSTMEncoder(input_size, hidden_size, num_layers)\n",
    "decoder = LSTMDecoder(input_size, hidden_size, output_size, num_layers)\n",
    "\n",
    "# Define loss function and optimizer\n",
    "criterion = nn.MSELoss()\n",
    "optimizer = optim.Adam(list(encoder.parameters()) + list(decoder.parameters()), lr=0.001)\n",
    "\n",
    "\n",
    "# Training\n",
    "num_epochs = 1000\n",
    "for epoch in range(num_epochs):\n",
    "    # Forward pass\n",
    "    encoded = encoder(data_tensor)\n",
    "    # Get the last hidden state of the encoder as initial hidden state for decoder\n",
    "    hx, cx = encoded.unsqueeze(0), torch.zeros_like(encoded).unsqueeze(0)\n",
    "    decoded = decoder(data_tensor, hx, cx)\n",
    "    \n",
    "    # Compute loss\n",
    "    loss = criterion(decoded, data_tensor)\n",
    "    loss_array.append(loss.item())\n",
    "    # Backward pass and optimization\n",
    "    optimizer.zero_grad()\n",
    "    loss.backward()\n",
    "    optimizer.step()\n",
    "    \n",
    "    # Print progress\n",
    "    if (epoch+1) % 10 == 0:\n",
    "        print(f'Epoch [{epoch+1}/{num_epochs}], Loss: {loss.item():.4f}')\n",
    "    if loss < 0.001:\n",
    "        break\n",
    "# Get encoded representation of data\n",
    "encoded_data = encoder(data_tensor).detach().numpy()\n",
    "\n",
    "# Perform KMeans clustering on encoded data\n",
    "kmeans = KMeans(n_clusters=3)  # You can adjust the number of clusters as needed\n",
    "kmeans.fit(encoded_data)\n",
    "\n",
    "cluster_labels = kmeans.labels_\n",
    "\n",
    "print(\"Cluster labels:\", cluster_labels)\n",
    "\n"
   ]
  },
  {
   "cell_type": "code",
   "execution_count": 14,
   "metadata": {},
   "outputs": [
    {
     "data": {
      "text/plain": [
       "[<matplotlib.lines.Line2D at 0x248fa2aa010>]"
      ]
     },
     "execution_count": 14,
     "metadata": {},
     "output_type": "execute_result"
    },
    {
     "data": {
      "image/png": "[encoded data removed]",
      "text/plain": [
       "<Figure size 640x480 with 1 Axes>"
      ]
     },
     "metadata": {},
     "output_type": "display_data"
    }
   ],
   "source": [
    "[1 1 2 2 2 1 1 1 1 1 1 0 1 2 0 0 0 0 0 0 1 1 0 0 1 0 0 0 1 1 1 1 2 1 0 0 1\n",
    " 2 2 2]\n",
    "[2 2 2 2 2 0 0 0 0 0 0 1 2 2 0 1 1 0 1 1 0 0 0 1 0 1 1 1 0 0 0 0 2 0 0 0 0\n",
    " 2 2 2]"
   ]
  },
  {
   "cell_type": "code",
   "execution_count": null,
   "metadata": {},
   "outputs": [],
   "source": []
  }
 ],
 "metadata": {
  "kernelspec": {
   "display_name": "Python 3",
   "language": "python",
   "name": "python3"
  },
  "language_info": {
   "codemirror_mode": {
    "name": "ipython",
    "version": 3
   },
   "file_extension": ".py",
   "mimetype": "text/x-python",
   "name": "python",
   "nbconvert_exporter": "python",
   "pygments_lexer": "ipython3",
   "version": "3.11.5"
  }
 },
 "nbformat": 4,
 "nbformat_minor": 2
}
